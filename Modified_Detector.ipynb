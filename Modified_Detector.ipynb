{
 "cells": [
  {
   "cell_type": "code",
   "execution_count": null,
   "id": "3cb97309",
   "metadata": {},
   "outputs": [],
   "source": [
    "import matplotlib.pyplot as plt\n",
    "import os\n",
    "from glob import glob as glob\n",
    "import cv2\n",
    "import random\n",
    "from pylab import *\n",
    "\n",
    "%matplotlib inline\n",
    "\n",
    "from tensorflow.keras.preprocessing.image import ImageDataGenerator\n",
    "from tensorflow.keras.layers import Dense, Input, Dropout, Flatten, Conv2D\n",
    "from keras.layers import BatchNormalization , Activation , MaxPooling2D\n",
    "from tensorflow.keras.models import Model, Sequential\n",
    "from tensorflow.keras.optimizers import Adam\n",
    "from tensorflow.keras.callbacks import ModelCheckpoint , ReduceLROnPlateau\n",
    "from IPython.display import SVG , Image\n",
    "from tensorflow.keras.utils import plot_model\n",
    "import tensorflow as tf\n",
    "print(\"TensorFlow Version\" , tf.__version__)"
   ]
  },
  {
   "cell_type": "code",
   "execution_count": null,
   "id": "4047ced6",
   "metadata": {},
   "outputs": [],
   "source": [
    "images = glob(\"/kaggle/input/fer2013/train/**/**\")\n",
    "for i in range(9):\n",
    "    image = choice(images)\n",
    "    plt.figure(figsize=(15,15) )\n",
    "    plt.subplot(331+i)\n",
    "    plt.imshow(cv2.imread(image));plt.axis('off')"
   ]
  },
  {
   "cell_type": "code",
   "execution_count": null,
   "id": "b5246fe3",
   "metadata": {},
   "outputs": [],
   "source": [
    "img_size = 48\n",
    "batch_size = 64\n",
    "datagen_train = ImageDataGenerator(horizontal_flip = True)\n",
    "train_generator = datagen_train.flow_from_directory(\"/kaggle/input/fer2013/train\", target_size = (img_size, img_size) , color_mode = \"grayscale\" , batch_size = batch_size , class_mode = \"categorical\" , shuffle = True )\n",
    "\n",
    "datagen_validation = ImageDataGenerator(horizontal_flip = True)\n",
    "validation_generator = datagen_train.flow_from_directory(\"/kaggle/input/fer2013/test\", target_size = (img_size, img_size) , color_mode = \"grayscale\" , batch_size = batch_size , class_mode = \"categorical\" , shuffle = True )\n"
   ]
  },
  {
   "cell_type": "code",
   "execution_count": null,
   "id": "722e8fef",
   "metadata": {},
   "outputs": [],
   "source": [
    "def Convolution(input_tensor , filters , kernel_size):\n",
    "    x = Conv2D(filters = filters , kernel_size = kernel_size , padding = 'same')(input_tensor)\n",
    "    x= BatchNormalization()(x)\n",
    "    x = Activation('relu')(x)\n",
    "    x = MaxPooling2D(pool_size= (2,2))(x)\n",
    "    x = Dropout(0.25)(x)\n",
    "    return x"
   ]
  },
  {
   "cell_type": "code",
   "execution_count": null,
   "id": "5e4820f2",
   "metadata": {},
   "outputs": [],
   "source": [
    "def Dense_f(input_tensor , nodes):\n",
    "    x = Dense(nodes)(input_tensor)\n",
    "    x = BatchNormalization()(x)\n",
    "    x = Activation('relu')(x)\n",
    "    x = Dropout(0.25)(x)\n",
    "    return x\n",
    "    "
   ]
  },
  {
   "cell_type": "code",
   "execution_count": null,
   "id": "82b24c39",
   "metadata": {},
   "outputs": [],
   "source": [
    "def model_fer(input_shape):\n",
    "    inputs = Input(input_shape)\n",
    "    conv1 = Convolution(inputs, 64 , (3,3))\n",
    "    conv2 = Convolution(inputs, 128 , (5,5))\n",
    "    conv3 = Convolution(inputs, 512 , (3,3))\n",
    "    \n",
    "    conv4 = Convolution(inputs, 512 , (3,3))\n",
    "    \n",
    "    flatten = Flatten()(conv4)\n",
    "    dense_1 = Dense_f(flatten , 256)\n",
    "    dense_2 = Dense_f(flatten , 512)\n",
    "    output = Dense(7 , activation = \"softmax\")(dense_2)\n",
    "    model = Model(inputs = [inputs] , outputs = [output])\n",
    "    \n",
    "    opt = Adam(lr = 0.0005)\n",
    "    \n",
    "    model.compile(loss = ['categorical_crossentropy'] , optimizer = opt , metrics = ['accuracy'])\n",
    "    return model"
   ]
  },
  {
   "cell_type": "code",
   "execution_count": null,
   "id": "6478f68c",
   "metadata": {},
   "outputs": [],
   "source": [
    "model = model_fer((48,48,1))\n",
    "model.summary()"
   ]
  },
  {
   "cell_type": "code",
   "execution_count": null,
   "id": "5d5f5b5a",
   "metadata": {},
   "outputs": [],
   "source": [
    "epochs = 15\n",
    "steps_per_epoch = train_generator.n//train_generator.batch_size\n",
    "validation_steps = validation_generator.n//validation_generator.batch_size\n",
    "\n",
    "checkpoint = ModelCheckpoint(\"model_weights.h5\" , monitor = 'val_accuracy' , save_weights_only = True , mode = 'max' , verbose = 1 )\n",
    "\n",
    "reduce_lr = ReduceLROnPlateau(monitor = 'val_loss' , factor = 0.1 , patience = 2 , min_lr = 0.00001)\n",
    "\n",
    "callbacks = [checkpoint, reduce_lr]"
   ]
  },
  {
   "cell_type": "code",
   "execution_count": null,
   "id": "d4fca2b7",
   "metadata": {},
   "outputs": [],
   "source": [
    "history = model.fit(\n",
    "x= train_generator,\n",
    "steps_per_epoch = steps_per_epoch , \n",
    "epochs = epochs ,\n",
    "validation_data = validation_generator , \n",
    "validation_steps = validation_steps , \n",
    "callbacks = callbacks\n",
    ")"
   ]
  },
  {
   "cell_type": "code",
   "execution_count": null,
   "id": "3929be7e",
   "metadata": {},
   "outputs": [],
   "source": [
    "model.evaluate(validation_generator)"
   ]
  },
  {
   "cell_type": "code",
   "execution_count": null,
   "id": "18714fb9",
   "metadata": {},
   "outputs": [],
   "source": [
    "plt.plot(history.history['loss'])\n",
    "plt.plot(history.history['val_loss'])\n",
    "plt.title('Model Loss')\n",
    "plt.legend(['train' , 'validation'] , loc = 'upper left' )\n",
    "plt.subplots_adjust(top = 1.0, bottom = 0.0 , right = 0.95 , left = 0.0 , hspace = 0.25 , wspace = 0.35)"
   ]
  },
  {
   "cell_type": "code",
   "execution_count": null,
   "id": "8bf69423",
   "metadata": {},
   "outputs": [],
   "source": [
    "model_json = model.to_json()\n",
    "with open('model_a1.json' , 'w') as json_file:\n",
    "    json_file.write(model_json)"
   ]
  }
 ],
 "metadata": {
  "kernelspec": {
   "display_name": "Python 3 (ipykernel)",
   "language": "python",
   "name": "python3"
  },
  "language_info": {
   "codemirror_mode": {
    "name": "ipython",
    "version": 3
   },
   "file_extension": ".py",
   "mimetype": "text/x-python",
   "name": "python",
   "nbconvert_exporter": "python",
   "pygments_lexer": "ipython3",
   "version": "3.11.5"
  }
 },
 "nbformat": 4,
 "nbformat_minor": 5
}
